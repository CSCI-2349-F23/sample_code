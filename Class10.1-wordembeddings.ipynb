{
 "cells": [
  {
   "cell_type": "markdown",
   "metadata": {},
   "source": [
    "# Class 10.1: Intro to Word Embeddings"
   ]
  },
  {
   "cell_type": "markdown",
   "metadata": {},
   "source": [
    "## Installing gensim and its dependencies and launching a Jupyter notebook"
   ]
  },
  {
   "cell_type": "markdown",
   "metadata": {},
   "source": [
    "``python3 -m pip install numpy``\n",
    "\n",
    "``python3 -m pip install scipy``\n",
    "\n",
    "``python3 -m pip install gensim``\n",
    "\n",
    "``python3 -m pip install scikit-learn``\n",
    "\n",
    "``jupyter notebook``\n"
   ]
  },
  {
   "cell_type": "markdown",
   "metadata": {},
   "source": [
    "## Getting a pre-trained word2vec model\n",
    "\n",
    "You can get a pre-trained word2vec model built on billions words of Google newsfrom here:\n",
    "\n",
    "https://github.com/eyaler/word2vec-slim/blob/master/GoogleNews-vectors-negative300-SLIM.bin.gz\n",
    "\n",
    "Just click on the \"download\" icon next to where it says \"Raw\".\n"
   ]
  },
  {
   "cell_type": "markdown",
   "metadata": {},
   "source": [
    "## Importing some libraries"
   ]
  },
  {
   "cell_type": "code",
   "execution_count": 3,
   "metadata": {},
   "outputs": [],
   "source": [
    "%matplotlib inline\n",
    "import numpy as np\n",
    "import matplotlib.pyplot as plt\n",
    "import gensim\n",
    "import re\n",
    "import nltk\n",
    "from sklearn.manifold import TSNE\n",
    "from sklearn.decomposition import PCA\n",
    "from gensim.models import Word2Vec\n",
    "\n"
   ]
  },
  {
   "cell_type": "markdown",
   "metadata": {},
   "source": [
    "## Loading and using the pre-trained word2vec model\n",
    "\n",
    "<b>Note: When you run the code below, it will take a minute or two to load the model!</b> Wait until you see <code>\"big model loaded\"</code> printed out below the cell. You can also check for the <code>*</code> in the brackets to the left of the cell you are executing."
   ]
  },
  {
   "cell_type": "code",
   "execution_count": 5,
   "metadata": {},
   "outputs": [
    {
     "name": "stdout",
     "output_type": "stream",
     "text": [
      "big model loaded!\n"
     ]
    }
   ],
   "source": [
    "bigmodel = gensim.models.KeyedVectors.load_word2vec_format(\"GoogleNews-vectors-negative300-SLIM.bin.gz\", binary=True)\n",
    "print(\"big model loaded!\")"
   ]
  },
  {
   "cell_type": "markdown",
   "metadata": {},
   "source": [
    "Now we can look at the word embedding (i.e., word vector) for any word that's in the model like this: "
   ]
  },
  {
   "cell_type": "code",
   "execution_count": 6,
   "metadata": {},
   "outputs": [
    {
     "data": {
      "text/plain": [
       "array([ 1.71980578e-02, -7.49343913e-03, -5.79820201e-02,  5.40510379e-02,\n",
       "       -2.83358470e-02,  1.92454457e-02,  1.96549222e-02, -2.76806820e-02,\n",
       "       -5.15941717e-03, -2.12928317e-02,  6.02750964e-02, -1.42170608e-01,\n",
       "       -7.57533452e-03, -5.56889474e-02, -8.43523722e-03,  3.60340253e-02,\n",
       "       -6.68267384e-02,  5.33958711e-02, -6.28957525e-02, -4.02925909e-02,\n",
       "        5.20855449e-02, -3.32495756e-02,  4.78269793e-02, -5.50337844e-02,\n",
       "       -2.99737565e-02,  6.71543181e-02, -5.01200520e-02,  1.07446909e-01,\n",
       "        1.10067569e-01,  8.18955060e-03, -3.25944126e-02, -2.75168922e-02,\n",
       "       -1.22024314e-02, -2.88272202e-02, -3.30857858e-02,  2.61041941e-03,\n",
       "       -4.50425316e-03,  1.76894292e-02,  4.97924685e-02,  1.12033054e-01,\n",
       "        5.56889456e-03, -7.14128837e-02, -5.05704759e-03,  1.76075343e-02,\n",
       "       -3.60340253e-02, -2.98099648e-02,  8.35334212e-02, -2.35859063e-02,\n",
       "       -5.36415586e-03,  2.53876075e-02, -2.35859063e-02,  3.99650075e-02,\n",
       "        7.69817829e-02,  4.74993978e-03,  3.86546813e-02,  2.51828693e-03,\n",
       "        9.23781320e-02, -8.18955079e-02,  9.95849371e-02,  1.17110582e-02,\n",
       "        8.12403485e-02,  4.55339029e-02,  4.78269793e-02,  5.89647656e-03,\n",
       "        9.82746109e-03, -4.07839641e-02,  7.65723037e-03, -1.59696247e-02,\n",
       "       -5.20855449e-02,  1.05440465e-03,  1.15964040e-01,  4.11115475e-02,\n",
       "       -6.55164048e-02,  2.71893088e-02, -2.29307432e-02, -4.93420428e-03,\n",
       "        7.20680505e-02, -4.06201743e-02,  5.27407080e-02, -6.94473907e-02,\n",
       "        4.58614863e-02, -4.35684100e-02,  1.77713260e-02, -9.10678059e-02,\n",
       "       -1.00240104e-01, -6.19130060e-02, -7.69817829e-02,  3.99650075e-02,\n",
       "        5.13894344e-03, -8.77919868e-02, -4.12753373e-02, -6.26500649e-03,\n",
       "       -2.17842050e-02, -2.73531005e-02,  2.63703540e-02, -1.18584700e-01,\n",
       "        1.76075343e-02, -8.23049899e-03, -1.82217511e-03, -7.01025575e-02,\n",
       "       -7.07577169e-02, -6.02750964e-02,  8.12403485e-02,  8.64816606e-02,\n",
       "        4.61890660e-02, -7.07577169e-02, -7.28870044e-03, -4.65166494e-02,\n",
       "        6.18311111e-03, -4.15619696e-03, -5.33958711e-02,  5.40510379e-02,\n",
       "        6.97749779e-02,  3.45599055e-02,  3.29219960e-02, -2.29307432e-02,\n",
       "       -2.92776455e-03, -9.69642848e-02, -7.20680505e-02, -3.83270979e-02,\n",
       "       -7.43611231e-02,  1.38403410e-02, -1.04826249e-01, -1.87540725e-02,\n",
       "       -3.27582024e-02,  1.94911305e-02, -1.35946544e-02, -5.83096035e-02,\n",
       "        5.50337844e-02, -8.51713270e-02, -5.17579615e-02, -7.78007368e-03,\n",
       "       -7.99300149e-02,  6.96111843e-03, -9.17229727e-02,  1.31032814e-03,\n",
       "        3.81633081e-02, -5.83096035e-02,  8.64816606e-02,  7.89472684e-02,\n",
       "        1.75256394e-02,  2.29307432e-02, -5.89647666e-02,  5.37234545e-02,\n",
       "       -2.00899929e-04,  2.00644005e-02, -7.10853040e-02, -1.85902808e-02,\n",
       "       -2.52238177e-02, -1.02860764e-01,  1.43480927e-01,  1.78532209e-02,\n",
       "       -7.01025575e-02, -1.91635489e-02, -7.04301372e-02,  1.10558942e-02,\n",
       "        3.53788584e-02, -5.04476354e-02, -3.14478762e-02,  3.91460545e-02,\n",
       "        2.16204152e-02,  9.41798370e-03,  8.09127614e-02, -4.22580838e-02,\n",
       "       -3.37409489e-02, -4.11524950e-03, -1.09407280e-04,  5.32320794e-03,\n",
       "        4.29132469e-02, -1.11377891e-02,  1.36765502e-02, -4.42235768e-02,\n",
       "        3.29219960e-02,  5.86371869e-02, -7.92748556e-02,  1.73618477e-02,\n",
       "        6.15854226e-02,  8.14860314e-03, -1.44791260e-01,  8.25506747e-02,\n",
       "       -1.01959910e-02, -8.31239391e-03, -3.93098444e-02,  5.40510379e-02,\n",
       "       -1.91635489e-02,  3.91051080e-03,  9.43436250e-02,  1.43480927e-01,\n",
       "        1.53144607e-02,  3.39047424e-02, -1.32670728e-02,  5.93742449e-03,\n",
       "       -3.01375482e-02,  4.55339029e-02,  6.97749779e-02,  6.32233322e-02,\n",
       "       -5.11027984e-02, -7.96024352e-02, -6.38784990e-02,  2.39134897e-02,\n",
       "       -8.25506747e-02, -8.77919868e-02, -7.86196887e-02, -4.88097258e-02,\n",
       "       -3.93098453e-03, -5.04476354e-02, -3.79995182e-02,  6.12578429e-02,\n",
       "        8.84471536e-02, -4.61890660e-02, -1.53963566e-01, -1.57239381e-02,\n",
       "       -4.25856635e-02, -1.41679235e-02, -5.60165271e-02,  4.25856635e-02,\n",
       "        8.71368200e-02, -8.18955079e-02, -7.37059563e-02, -2.91548017e-02,\n",
       "        5.33958711e-02, -1.26938038e-02,  3.00965994e-03, -9.30332989e-02,\n",
       "       -3.52150686e-02, -5.89647666e-02,  7.66541958e-02, -9.09040123e-03,\n",
       "        9.56539586e-02, -9.17229727e-02,  5.40510379e-03,  1.98187139e-02,\n",
       "       -8.02576020e-02,  5.96199296e-02, -4.52063233e-02,  4.65166494e-02,\n",
       "        1.18584700e-01,  4.09477539e-02,  4.81545590e-02,  3.09565030e-02,\n",
       "        7.69817829e-02, -1.00895271e-01, -1.63791012e-02, -6.02750964e-02,\n",
       "        9.95849371e-02,  5.89647666e-02,  1.61334146e-02, -1.13630015e-03,\n",
       "        2.65341457e-02, -7.99300149e-02, -7.76369423e-02,  5.56889474e-02,\n",
       "       -7.17404634e-02, -2.35859063e-02, -2.53876075e-02,  6.58439919e-02,\n",
       "       -4.35684100e-02, -3.55426520e-02, -1.18584700e-01, -3.91460545e-02,\n",
       "       -1.71161611e-02,  1.13834757e-02, -4.81545590e-02, -1.31032814e-03,\n",
       "        5.83096035e-02, -3.34133692e-02, -5.56889474e-02, -2.86634285e-02,\n",
       "       -1.28412157e-01,  1.98187139e-02, -2.08833553e-02,  2.96461750e-02,\n",
       "       -2.98099648e-02,  1.10067569e-01,  2.29307432e-02, -6.42060786e-02,\n",
       "       -2.80236185e-04,  3.48874889e-02,  5.11027984e-02, -5.14406187e-04,\n",
       "        1.39549956e-01, -1.11377891e-02,  5.01200520e-02,  8.12403485e-02,\n",
       "       -5.92923500e-02, -1.65428929e-02, -4.17667106e-02,  4.22580838e-02,\n",
       "        5.86371869e-02,  9.43436250e-02, -6.06026761e-02,  3.45599055e-02,\n",
       "       -9.23781320e-02,  8.77919868e-02,  8.25506747e-02, -1.58058330e-02,\n",
       "        2.09652502e-02,  1.39549956e-01, -1.19239859e-01,  7.46887028e-02],\n",
       "      dtype=float32)"
      ]
     },
     "execution_count": 6,
     "metadata": {},
     "output_type": "execute_result"
    }
   ],
   "source": [
    "bigmodel[\"dog\"]"
   ]
  },
  {
   "cell_type": "markdown",
   "metadata": {},
   "source": [
    "This is not especially interesting because these numbers are not human interpretable. Instead we might like to look at how words are similar to each other, like this"
   ]
  },
  {
   "cell_type": "code",
   "execution_count": 7,
   "metadata": {},
   "outputs": [
    {
     "data": {
      "text/plain": [
       "0.12194335"
      ]
     },
     "execution_count": 7,
     "metadata": {},
     "output_type": "execute_result"
    }
   ],
   "source": [
    "bigmodel.similarity('dog', 'computer')"
   ]
  },
  {
   "cell_type": "code",
   "execution_count": 8,
   "metadata": {},
   "outputs": [
    {
     "data": {
      "text/plain": [
       "0.76094574"
      ]
     },
     "execution_count": 8,
     "metadata": {},
     "output_type": "execute_result"
    }
   ],
   "source": [
    "bigmodel.similarity(\"dog\", \"cat\")"
   ]
  },
  {
   "cell_type": "code",
   "execution_count": 9,
   "metadata": {},
   "outputs": [
    {
     "data": {
      "text/plain": [
       "0.5424108"
      ]
     },
     "execution_count": 9,
     "metadata": {},
     "output_type": "execute_result"
    }
   ],
   "source": [
    "bigmodel.similarity(\"dog\", \"leash\")"
   ]
  },
  {
   "cell_type": "code",
   "execution_count": 11,
   "metadata": {},
   "outputs": [
    {
     "data": {
      "text/plain": [
       "0.45241076"
      ]
     },
     "execution_count": 11,
     "metadata": {},
     "output_type": "execute_result"
    }
   ],
   "source": [
    "bigmodel.similarity(\"dog\", \"barking\")"
   ]
  },
  {
   "cell_type": "code",
   "execution_count": 12,
   "metadata": {},
   "outputs": [
    {
     "data": {
      "text/plain": [
       "0.01455573"
      ]
     },
     "execution_count": 12,
     "metadata": {},
     "output_type": "execute_result"
    }
   ],
   "source": [
    "bigmodel.similarity(\"dog\", \"enhance\")"
   ]
  },
  {
   "cell_type": "markdown",
   "metadata": {},
   "source": [
    "We can also see what words are most similar to some word, like this:"
   ]
  },
  {
   "cell_type": "code",
   "execution_count": 13,
   "metadata": {},
   "outputs": [
    {
     "data": {
      "text/plain": [
       "[('dogs', 0.8680490255355835),\n",
       " ('puppy', 0.8106428384780884),\n",
       " ('pooch', 0.7627378106117249),\n",
       " ('cat', 0.760945737361908),\n",
       " ('Rottweiler', 0.7437615394592285),\n",
       " ('beagle', 0.7418622374534607),\n",
       " ('pup', 0.740691065788269),\n",
       " ('Pomeranian', 0.7238621115684509),\n",
       " ('canines', 0.7221246957778931),\n",
       " ('chihuahua', 0.717391848564148)]"
      ]
     },
     "execution_count": 13,
     "metadata": {},
     "output_type": "execute_result"
    }
   ],
   "source": [
    "bigmodel.most_similar(\"dog\")"
   ]
  },
  {
   "cell_type": "code",
   "execution_count": 14,
   "metadata": {},
   "outputs": [
    {
     "data": {
      "text/plain": [
       "[('Soccer', 0.7622617483139038),\n",
       " ('football', 0.731354832649231),\n",
       " ('basketball', 0.681098461151123),\n",
       " ('volleyball', 0.6647275686264038),\n",
       " ('softball', 0.6443414092063904),\n",
       " ('lacrosse', 0.643805980682373),\n",
       " ('hockey', 0.6270937323570251),\n",
       " ('tennis', 0.616338312625885),\n",
       " ('baseball', 0.5814319252967834),\n",
       " ('sports', 0.5805468559265137)]"
      ]
     },
     "execution_count": 14,
     "metadata": {},
     "output_type": "execute_result"
    }
   ],
   "source": [
    "bigmodel.most_similar(\"soccer\")"
   ]
  },
  {
   "cell_type": "markdown",
   "metadata": {},
   "source": [
    "We can also ask the model to pick out the word that doesn't belong."
   ]
  },
  {
   "cell_type": "code",
   "execution_count": 15,
   "metadata": {},
   "outputs": [
    {
     "data": {
      "text/plain": [
       "'key'"
      ]
     },
     "execution_count": 15,
     "metadata": {},
     "output_type": "execute_result"
    }
   ],
   "source": [
    "bigmodel.doesnt_match([\"fret\", \"neck\", \"string\", \"key\"])"
   ]
  },
  {
   "cell_type": "code",
   "execution_count": 16,
   "metadata": {},
   "outputs": [
    {
     "data": {
      "text/plain": [
       "'chair'"
      ]
     },
     "execution_count": 16,
     "metadata": {},
     "output_type": "execute_result"
    }
   ],
   "source": [
    "bigmodel.doesnt_match([\"breakfast\", \"lunch\", \"dinner\", \"chair\"])"
   ]
  },
  {
   "cell_type": "markdown",
   "metadata": {},
   "source": [
    "It doesn't always work the way you think it might. "
   ]
  },
  {
   "cell_type": "code",
   "execution_count": 17,
   "metadata": {},
   "outputs": [
    {
     "data": {
      "text/plain": [
       "'set'"
      ]
     },
     "execution_count": 17,
     "metadata": {},
     "output_type": "execute_result"
    }
   ],
   "source": [
    "bigmodel.doesnt_match([\"set\", \"list\", \"dictionary\", \"elephant\"])"
   ]
  },
  {
   "cell_type": "markdown",
   "metadata": {},
   "source": [
    "We can also do cool things by combining word vectors. We can solve analogies just like on a standardized test.\n",
    "\n",
    "\"*Woman* is to *man* as ________ is to *boy*\""
   ]
  },
  {
   "cell_type": "code",
   "execution_count": 18,
   "metadata": {},
   "outputs": [
    {
     "data": {
      "text/plain": [
       "[('girl', 0.8881361484527588),\n",
       " ('mother', 0.6978276968002319),\n",
       " ('toddler', 0.6870075464248657),\n",
       " ('daughter', 0.6686559915542603),\n",
       " ('child', 0.6597288846969604),\n",
       " ('teenager', 0.6441270709037781),\n",
       " ('schoolgirl', 0.6108164191246033),\n",
       " ('niece', 0.6057229042053223),\n",
       " ('grandmother', 0.6009621024131775),\n",
       " ('baby', 0.5917591452598572)]"
      ]
     },
     "execution_count": 18,
     "metadata": {},
     "output_type": "execute_result"
    }
   ],
   "source": [
    "bigmodel.most_similar(positive=['woman', 'boy'], negative=['man'])"
   ]
  },
  {
   "cell_type": "markdown",
   "metadata": {},
   "source": [
    "\"*Woman* is to *man* as ________ is to *king*\""
   ]
  },
  {
   "cell_type": "code",
   "execution_count": 19,
   "metadata": {},
   "outputs": [
    {
     "data": {
      "text/plain": [
       "[('queen', 0.7118192911148071),\n",
       " ('monarch', 0.6189675331115723),\n",
       " ('princess', 0.5902431607246399),\n",
       " ('prince', 0.5377321839332581),\n",
       " ('kings', 0.5236843824386597),\n",
       " ('queens', 0.5181134939193726),\n",
       " ('sultan', 0.5098593235015869),\n",
       " ('monarchy', 0.5087411999702454),\n",
       " ('throne', 0.5005807280540466),\n",
       " ('royal', 0.4938204884529114)]"
      ]
     },
     "execution_count": 19,
     "metadata": {},
     "output_type": "execute_result"
    }
   ],
   "source": [
    "bigmodel.most_similar(positive=['woman', 'king'], negative=['man'])"
   ]
  },
  {
   "cell_type": "markdown",
   "metadata": {},
   "source": [
    "## Visualizing word vectors"
   ]
  },
  {
   "cell_type": "markdown",
   "metadata": {},
   "source": [
    "In class, I showed you some plots of word vectors, where the 300 dimensions had been projected down to 2 dimensions. Here we will use a dimensionality reduction method to reduce our word vectors to 2 dimensions so that we can visualize them. The code in the cell below will take word pairs, in which the first word is related in some way to the second word, and plot them in two dimensions. Execute this cell, and you should see a nice graph underneath."
   ]
  },
  {
   "cell_type": "code",
   "execution_count": 20,
   "metadata": {},
   "outputs": [
    {
     "data": {
      "image/png": "[encoded data removed]",
      "text/plain": [
       "<Figure size 640x480 with 1 Axes>"
      ]
     },
     "metadata": {},
     "output_type": "display_data"
    }
   ],
   "source": [
    "wordpairs = {\"Madrid\":\"Spain\", \"Paris\":\"France\",  \"Berlin\":\"Germany\", \"Beijing\":\"China\", \"Tokyo\":\"Japan\"}\n",
    "\n",
    "# Go get the word vectors for these words and \n",
    "# then store them so you can use them later on.\n",
    "vecwords = []  # stores the words above\n",
    "vecs = []      # stores the vectors for each word\n",
    "for k,v in wordpairs.items():\n",
    "    kvec = bigmodel[k]\n",
    "    vvec = bigmodel[v]\n",
    "    vecs.append(kvec)\n",
    "    vecwords.append(k)\n",
    "    vecs.append(vvec)\n",
    "    vecwords.append(v)\n",
    "    \n",
    "# PCA is a way to project multiple dimensions down to \n",
    "# fewer dimensions, which we are doing here so we can \n",
    "# visualize the word vectors.\n",
    "pca = PCA(n_components=2, whiten=True)\n",
    "vectors2d = pca.fit(vecs).transform(vecs)\n",
    "\n",
    "\n",
    "# This is just some ugly matplotlib code for plotting\n",
    "# the 2-D vectors and visualizing them with different colors.\n",
    "i = 2\n",
    "for point, word in zip(vectors2d, vecwords):\n",
    "    if i%2 == 0:\n",
    "        plt.scatter(point[0], point[1], c='r')\n",
    "    else:\n",
    "        plt.scatter(point[0], point[1], c='b')\n",
    "    i += 1\n",
    "    \n",
    "    plt.annotate(\n",
    "            word, \n",
    "            xy=(point[0], point[1]),\n",
    "            xytext=(7, 6),\n",
    "            textcoords='offset points',\n",
    "            ha='left' ,\n",
    "            va='top',\n",
    "            size=\"medium\"\n",
    "            )\n"
   ]
  },
  {
   "cell_type": "markdown",
   "metadata": {},
   "source": [
    "The cell below does something similar: it takes two lists of words and plots one in blue and one in red. If the words in one list are very related to one another and the words in the other list are very related to one another, you should see the red and blue dots clustering in different parts of the space."
   ]
  },
  {
   "cell_type": "code",
   "execution_count": 21,
   "metadata": {},
   "outputs": [
    {
     "data": {
      "image/png": "[encoded data removed]",
      "text/plain": [
       "<Figure size 640x480 with 1 Axes>"
      ]
     },
     "metadata": {},
     "output_type": "display_data"
    }
   ],
   "source": [
    "# Some words associated with 2 different categories: work and school\n",
    "\n",
    "vecwords1 = \"commute boss office paperwork\".split()  \n",
    "vecwords2 = \"teacher studying library exams\".split()\n",
    "vecs = []\n",
    "vecwords = []\n",
    "\n",
    "# Get their vectors\n",
    "for w in vecwords1:\n",
    "    v = bigmodel[w]\n",
    "    vecs.append(v)\n",
    "    vecwords.append(w)\n",
    "\n",
    "for w in vecwords2:\n",
    "    v = bigmodel[w]\n",
    "    vecs.append(v)\n",
    "    vecwords.append(w)\n",
    "\n",
    "    \n",
    "#tsne = TSNE(n_components=2, random_state=0)\n",
    "#vectors2d = tsne.fit_transform(vecs)\n",
    "\n",
    "# Do the PCA to reduce to 2 dimensions\n",
    "pca = PCA(n_components=2, whiten=True)\n",
    "vectors2d = pca.fit(vecs).transform(vecs)\n",
    "\n",
    "# Again, ugly matplotlib code to create visualization\n",
    "i = 0\n",
    "for point, word in zip(vectors2d, vecwords):\n",
    "    if i < len(vecwords1):\n",
    "        plt.scatter(point[0], point[1], c='r')\n",
    "    else:\n",
    "        plt.scatter(point[0], point[1], c='b')\n",
    "    i += 1\n",
    "    \n",
    "    plt.annotate(\n",
    "            word, \n",
    "            xy=(point[0], point[1]),\n",
    "            xytext=(7, 6),\n",
    "            textcoords='offset points',\n",
    "            ha='left' ,\n",
    "            va='top',\n",
    "            size=\"medium\"\n",
    "            )"
   ]
  },
  {
   "cell_type": "code",
   "execution_count": null,
   "metadata": {},
   "outputs": [],
   "source": []
  }
 ],
 "metadata": {
  "kernelspec": {
   "display_name": "Python 3 (ipykernel)",
   "language": "python",
   "name": "python3"
  },
  "language_info": {
   "codemirror_mode": {
    "name": "ipython",
    "version": 3
   },
   "file_extension": ".py",
   "mimetype": "text/x-python",
   "name": "python",
   "nbconvert_exporter": "python",
   "pygments_lexer": "ipython3",
   "version": "3.9.6"
  }
 },
 "nbformat": 4,
 "nbformat_minor": 4
}
